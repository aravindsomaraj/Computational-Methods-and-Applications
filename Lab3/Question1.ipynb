{
 "cells": [
  {
   "cell_type": "code",
   "execution_count": 1,
   "metadata": {},
   "outputs": [],
   "source": [
    "class RowVectorFloat:\n",
    "    def __init__(self, elements):\n",
    "        self.elements = list(elements)\n",
    "\n",
    "    def __str__(self):\n",
    "        return ' '.join(map(str, self.elements))\n",
    "\n",
    "    def __len__(self):\n",
    "        return len(self.elements)\n",
    "\n",
    "    def __getitem__(self, index):\n",
    "        return self.elements[index]\n",
    "\n",
    "    def __setitem__(self, index, value):\n",
    "        self.elements[index] = value\n",
    "\n",
    "    def __add__(self, other):\n",
    "        if len(self) != len(other):\n",
    "            raise Exception(\"Vector dimensions must match for addition\")\n",
    "        result_elements = [x + y for x, y in zip(self.elements, other.elements)]\n",
    "        return RowVectorFloat(result_elements)\n",
    "\n",
    "    def __sub__(self, other):\n",
    "        if len(self) != len(other):\n",
    "            raise Exception(\"Vector dimensions must match for subtraction\")\n",
    "        result_elements = [x - y for x, y in zip(self.elements, other.elements)]\n",
    "        return RowVectorFloat(result_elements)\n",
    "\n",
    "    def __mul__(self, scalar):\n",
    "        result_elements = [x * scalar for x in self.elements]\n",
    "        return RowVectorFloat(result_elements)\n",
    "\n",
    "    def __rmul__(self, scalar):\n",
    "        return self.__mul__(scalar)"
   ]
  },
  {
   "cell_type": "code",
   "execution_count": 12,
   "metadata": {},
   "outputs": [
    {
     "name": "stdout",
     "output_type": "stream",
     "text": [
      "1 2 4\n",
      "3\n",
      "4\n",
      "1 2 5 \n",
      "\n",
      "-1 1 5\n"
     ]
    }
   ],
   "source": [
    "r = RowVectorFloat([1, 2, 4])\n",
    "print(r)\n",
    "print(len(r))\n",
    "print(r[2])\n",
    "\n",
    "r[2] = 5\n",
    "print(r,\"\\n\")\n",
    "\n",
    "r1 = RowVectorFloat([1, 2 , 4])\n",
    "r2 = RowVectorFloat([1, 1 , 1])\n",
    "r3 = 2*r1 + (-3)*r2\n",
    "print(r3)"
   ]
  }
 ],
 "metadata": {
  "kernelspec": {
   "display_name": ".venv",
   "language": "python",
   "name": "python3"
  },
  "language_info": {
   "codemirror_mode": {
    "name": "ipython",
    "version": 3
   },
   "file_extension": ".py",
   "mimetype": "text/x-python",
   "name": "python",
   "nbconvert_exporter": "python",
   "pygments_lexer": "ipython3",
   "version": "3.11.6"
  }
 },
 "nbformat": 4,
 "nbformat_minor": 2
}
