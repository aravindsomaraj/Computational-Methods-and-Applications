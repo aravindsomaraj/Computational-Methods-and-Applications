{
 "cells": [
  {
   "cell_type": "code",
   "execution_count": 3,
   "metadata": {},
   "outputs": [],
   "source": [
    "import random"
   ]
  },
  {
   "cell_type": "code",
   "execution_count": 4,
   "metadata": {},
   "outputs": [],
   "source": [
    "class TextGenerator:\n",
    "    def __init__(self):\n",
    "        self.prefix_dict = {}\n",
    "\n",
    "    # Assimilate the text from the specified file\n",
    "    def assimilateText(self, filename):\n",
    "        try:\n",
    "            with open(filename, 'r', encoding='utf-8') as file:\n",
    "                global text \n",
    "                text = file.read().split()\n",
    "\n",
    "                # Create a prefix dictionary\n",
    "                for i in range(len(text) - 2):\n",
    "                    prefix = (text[i], text[i + 1])\n",
    "                    next_word = text[i + 2]\n",
    "\n",
    "                    if prefix in self.prefix_dict:\n",
    "                        self.prefix_dict[prefix].append(next_word)\n",
    "                    else:\n",
    "                        self.prefix_dict[prefix] = [next_word]\n",
    "\n",
    "        except FileNotFoundError:\n",
    "            print(f\"Error: File '{filename}' not found.\")\n",
    "    \n",
    "    def generateText(self, num_words, first_word=None):\n",
    "        if not self.prefix_dict:\n",
    "            print(\"Error: Prefix dictionary is empty. Call assimilateText first.\")\n",
    "            return\n",
    "\n",
    "        # If word is given, generate the prefix starting with that word (choose the second word randomly)\n",
    "        if first_word:\n",
    "            possible_nexts = []\n",
    "\n",
    "            for i in range(len(text) - 1):\n",
    "                current_word = text[i]\n",
    "\n",
    "                if current_word == first_word:\n",
    "                    next_word = text[i + 1]\n",
    "                    possible_nexts.append(next_word)\n",
    "\n",
    "            # Raising exception if no possible next words\n",
    "            if not possible_nexts:\n",
    "                raise Exception('Unable to produce text with the specified start word.')\n",
    "            \n",
    "            next_word = random.choice(possible_nexts)\n",
    "\n",
    "            current_prefix = (first_word, next_word)\n",
    "            generated_text = [first_word, next_word]\n",
    "\n",
    "        # Choose a random starting point from the keys of the prefix dictionary\n",
    "        else:\n",
    "            current_prefix = random.choice(list(self.prefix_dict.keys()))\n",
    "            generated_text = list(current_prefix)\n",
    "\n",
    "        # Generate the rest of the text\n",
    "        for _ in range(num_words - len(generated_text)):\n",
    "            if current_prefix in self.prefix_dict:\n",
    "                next_word = random.choice(self.prefix_dict[current_prefix])\n",
    "                generated_text.append(next_word)\n",
    "                current_prefix = tuple(list(current_prefix)[1:] + [next_word])\n",
    "            else:\n",
    "                break\n",
    "\n",
    "        # Print the generated text\n",
    "        print(' '.join(generated_text))"
   ]
  },
  {
   "cell_type": "code",
   "execution_count": 8,
   "metadata": {},
   "outputs": [
    {
     "name": "stdout",
     "output_type": "stream",
     "text": [
      "wedge and closed or drained according to Dron, had no meaning for the South withdrew to Richmond, nominated John C. Calhoun 7 Andrew Jackson rather than to operate in American universities. \"I would have extended Russia from hostile invasion. \"Lord God of our cause, exactly expressed by a Cossack coat,\n"
     ]
    }
   ],
   "source": [
    "\n",
    "# Example usage\n",
    "t = TextGenerator()\n",
    "t.assimilateText('sherlock.txt')  \n",
    "\n",
    "# Access the prefix dictionary\n",
    "# print(t.prefix_dict)\n",
    "t.generateText(50, 'wedge')\n"
   ]
  }
 ],
 "metadata": {
  "kernelspec": {
   "display_name": ".venv",
   "language": "python",
   "name": "python3"
  },
  "language_info": {
   "codemirror_mode": {
    "name": "ipython",
    "version": 3
   },
   "file_extension": ".py",
   "mimetype": "text/x-python",
   "name": "python",
   "nbconvert_exporter": "python",
   "pygments_lexer": "ipython3",
   "version": "3.11.6"
  }
 },
 "nbformat": 4,
 "nbformat_minor": 2
}
