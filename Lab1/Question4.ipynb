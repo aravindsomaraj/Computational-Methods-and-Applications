{
 "cells": [
  {
   "cell_type": "markdown",
   "metadata": {},
   "source": [
    "## Text Generation"
   ]
  },
  {
   "cell_type": "code",
   "execution_count": 1,
   "metadata": {},
   "outputs": [],
   "source": [
    "import random"
   ]
  },
  {
   "cell_type": "markdown",
   "metadata": {},
   "source": [
    "### Build a class `TextGenerator` :\n",
    "- It has a function `assimilateText` that takes a file name as its argument. It then reads all the text in the file and creates a **prefix dictionary** that maps a pair (2-tuple) of words to a list of words which follow that pair in the text.\n",
    "- It has a function `generateText` that creates random text based on the triplets contained in the prefix dictionary. This function has a mandatory argument that let it know the number of words to be produced in this random manner. It has an additional argument (optional) that fixes the first word in the random text it produces."
   ]
  },
  {
   "cell_type": "code",
   "execution_count": 2,
   "metadata": {},
   "outputs": [],
   "source": [
    "class TextGenerator:\n",
    "    def __init__(self):\n",
    "        self.prefix_dict = {}\n",
    "\n",
    "    # Assimilate the text from the specified file\n",
    "    def assimilateText(self, filename):\n",
    "        try:\n",
    "            with open(filename, 'r', encoding='utf-8') as file:\n",
    "                global text \n",
    "                text = file.read().split()\n",
    "\n",
    "                # Create a prefix dictionary\n",
    "                for i in range(len(text) - 2):\n",
    "                    prefix = (text[i], text[i + 1])\n",
    "                    next_word = text[i + 2]\n",
    "\n",
    "                    if prefix in self.prefix_dict:\n",
    "                        self.prefix_dict[prefix].append(next_word)\n",
    "                    else:\n",
    "                        self.prefix_dict[prefix] = [next_word]\n",
    "\n",
    "        except FileNotFoundError:\n",
    "            print(f\"Error: File '{filename}' not found.\")\n",
    "    \n",
    "    def generateText(self, num_words, first_word=None):\n",
    "        if not self.prefix_dict:\n",
    "            print(\"Error: Prefix dictionary is empty. Call assimilateText first.\")\n",
    "            return\n",
    "\n",
    "        # If word is given, generate the prefix starting with that word (choose the second word randomly)\n",
    "        if first_word:\n",
    "            possible_nexts = []\n",
    "\n",
    "            for i in range(len(text) - 1):\n",
    "                current_word = text[i]\n",
    "\n",
    "                if current_word == first_word:\n",
    "                    next_word = text[i + 1]\n",
    "                    possible_nexts.append(next_word)\n",
    "\n",
    "            # Raising exception if no possible next words\n",
    "            if not possible_nexts:\n",
    "                raise Exception('Unable to produce text with the specified start word.')\n",
    "            \n",
    "            next_word = random.choice(possible_nexts)\n",
    "\n",
    "            current_prefix = (first_word, next_word)\n",
    "            generated_text = [first_word, next_word]\n",
    "\n",
    "        # Choose a random starting point from the keys of the prefix dictionary\n",
    "        else:\n",
    "            current_prefix = random.choice(list(self.prefix_dict.keys()))\n",
    "            generated_text = list(current_prefix)\n",
    "\n",
    "        # Generate the rest of the text\n",
    "        for _ in range(num_words - len(generated_text)):\n",
    "            if current_prefix in self.prefix_dict:\n",
    "                next_word = random.choice(self.prefix_dict[current_prefix])\n",
    "                generated_text.append(next_word)\n",
    "                current_prefix = tuple(list(current_prefix)[1:] + [next_word])\n",
    "            else:\n",
    "                break\n",
    "\n",
    "        # Print the generated text\n",
    "        print(' '.join(generated_text))"
   ]
  },
  {
   "cell_type": "code",
   "execution_count": 3,
   "metadata": {},
   "outputs": [
    {
     "name": "stdout",
     "output_type": "stream",
     "text": [
      "wedge and closed automatically at intervals, and on the snow melts they'll sink in the medulla that regulate the balance down on the shores of Ireland whence the disease is attended with a diffuse form of advice emanated from the Chief of Police. \"What a young lady!\" said Foka, pretending\n"
     ]
    }
   ],
   "source": [
    "\n",
    "# Example usage\n",
    "t = TextGenerator()\n",
    "t.assimilateText('sherlock.txt')  \n",
    "\n",
    "# Access the prefix dictionary\n",
    "# print(t.prefix_dict)\n",
    "t.generateText(50, 'wedge')\n"
   ]
  }
 ],
 "metadata": {
  "kernelspec": {
   "display_name": ".venv",
   "language": "python",
   "name": "python3"
  },
  "language_info": {
   "codemirror_mode": {
    "name": "ipython",
    "version": 3
   },
   "file_extension": ".py",
   "mimetype": "text/x-python",
   "name": "python",
   "nbconvert_exporter": "python",
   "pygments_lexer": "ipython3",
   "version": "3.11.6"
  }
 },
 "nbformat": 4,
 "nbformat_minor": 2
}
