{
 "cells": [
  {
   "cell_type": "code",
   "execution_count": 1,
   "metadata": {},
   "outputs": [],
   "source": [
    "import random"
   ]
  },
  {
   "cell_type": "code",
   "execution_count": 14,
   "metadata": {},
   "outputs": [],
   "source": [
    "class TextGenerator:\n",
    "    def __init__(self):\n",
    "        self.prefix_dict = {}\n",
    "\n",
    "    # Assimilate the text from the specified file\n",
    "    def assimilateText(self, filename):\n",
    "        try:\n",
    "            with open(filename, 'r', encoding='utf-8') as file:\n",
    "                global text \n",
    "                text = file.read().split()\n",
    "\n",
    "                # Create a prefix dictionary\n",
    "                for i in range(len(text) - 2):\n",
    "                    prefix = (text[i], text[i + 1])\n",
    "                    next_word = text[i + 2]\n",
    "\n",
    "                    if prefix in self.prefix_dict:\n",
    "                        self.prefix_dict[prefix].append(next_word)\n",
    "                    else:\n",
    "                        self.prefix_dict[prefix] = [next_word]\n",
    "\n",
    "        except FileNotFoundError:\n",
    "            print(f\"Error: File '{filename}' not found.\")\n",
    "    \n",
    "    def generateText(self, num_words, first_word=None):\n",
    "        if not self.prefix_dict:\n",
    "            print(\"Error: Prefix dictionary is empty. Call assimilateText first.\")\n",
    "            return\n",
    "\n",
    "        # If word is given, generate the prefix starting with that word (choose the second word randomly)\n",
    "        if first_word:\n",
    "            possible_nexts = []\n",
    "\n",
    "            for i in range(len(text) - 1):\n",
    "                current_word = text[i]\n",
    "\n",
    "                if current_word == first_word:\n",
    "                    next_word = text[i + 1]\n",
    "                    possible_nexts.append(next_word)\n",
    "\n",
    "            # Raising exception if no possible next words\n",
    "            if not possible_nexts:\n",
    "                raise Exception('Unable to produce text with the specified start word.')\n",
    "            \n",
    "            next_word = random.choice(possible_nexts)\n",
    "\n",
    "            current_prefix = (first_word, next_word)\n",
    "            generated_text = [first_word, next_word]\n",
    "\n",
    "        # Choose a random starting point from the keys of the prefix dictionary\n",
    "        else:\n",
    "            current_prefix = random.choice(list(self.prefix_dict.keys()))\n",
    "            generated_text = list(current_prefix)\n",
    "\n",
    "        # Generate the rest of the text\n",
    "        for _ in range(num_words - len(generated_text)):\n",
    "            if current_prefix in self.prefix_dict:\n",
    "                next_word = random.choice(self.prefix_dict[current_prefix])\n",
    "                generated_text.append(next_word)\n",
    "                current_prefix = tuple(list(current_prefix)[1:] + [next_word])\n",
    "            else:\n",
    "                break\n",
    "\n",
    "        # Print the generated text\n",
    "        print(' '.join(generated_text))"
   ]
  },
  {
   "cell_type": "code",
   "execution_count": 15,
   "metadata": {},
   "outputs": [
    {
     "ename": "Exception",
     "evalue": "Unable to produce text with the specified start word.",
     "output_type": "error",
     "traceback": [
      "\u001b[0;31m---------------------------------------------------------------------------\u001b[0m",
      "\u001b[0;31mException\u001b[0m                                 Traceback (most recent call last)",
      "Cell \u001b[0;32mIn[15], line 7\u001b[0m\n\u001b[1;32m      3\u001b[0m t\u001b[38;5;241m.\u001b[39massimilateText(\u001b[38;5;124m'\u001b[39m\u001b[38;5;124msherlock.txt\u001b[39m\u001b[38;5;124m'\u001b[39m)  \u001b[38;5;66;03m# Replace 'example.txt' with your file name\u001b[39;00m\n\u001b[1;32m      5\u001b[0m \u001b[38;5;66;03m# Access the prefix dictionary\u001b[39;00m\n\u001b[1;32m      6\u001b[0m \u001b[38;5;66;03m# print(t.prefix_dict)\u001b[39;00m\n\u001b[0;32m----> 7\u001b[0m \u001b[43mt\u001b[49m\u001b[38;5;241;43m.\u001b[39;49m\u001b[43mgenerateText\u001b[49m\u001b[43m(\u001b[49m\u001b[38;5;241;43m50\u001b[39;49m\u001b[43m,\u001b[49m\u001b[43m \u001b[49m\u001b[38;5;124;43m'\u001b[39;49m\u001b[38;5;124;43mWedge\u001b[39;49m\u001b[38;5;124;43m'\u001b[39;49m\u001b[43m)\u001b[49m\n",
      "Cell \u001b[0;32mIn[14], line 41\u001b[0m, in \u001b[0;36mTextGenerator.generateText\u001b[0;34m(self, num_words, first_word)\u001b[0m\n\u001b[1;32m     38\u001b[0m         possible_nexts\u001b[38;5;241m.\u001b[39mappend(next_word)\n\u001b[1;32m     40\u001b[0m \u001b[38;5;28;01mif\u001b[39;00m \u001b[38;5;129;01mnot\u001b[39;00m possible_nexts:\n\u001b[0;32m---> 41\u001b[0m     \u001b[38;5;28;01mraise\u001b[39;00m \u001b[38;5;167;01mException\u001b[39;00m(\u001b[38;5;124m'\u001b[39m\u001b[38;5;124mUnable to produce text with the specified start word.\u001b[39m\u001b[38;5;124m'\u001b[39m)\n\u001b[1;32m     43\u001b[0m next_word \u001b[38;5;241m=\u001b[39m random\u001b[38;5;241m.\u001b[39mchoice(possible_nexts)\n\u001b[1;32m     45\u001b[0m current_prefix \u001b[38;5;241m=\u001b[39m (first_word, next_word)\n",
      "\u001b[0;31mException\u001b[0m: Unable to produce text with the specified start word."
     ]
    }
   ],
   "source": [
    "\n",
    "# Example usage\n",
    "t = TextGenerator()\n",
    "t.assimilateText('sherlock.txt')  \n",
    "\n",
    "# Access the prefix dictionary\n",
    "# print(t.prefix_dict)\n",
    "t.generateText(50, 'Wedge')\n"
   ]
  }
 ],
 "metadata": {
  "kernelspec": {
   "display_name": ".venv",
   "language": "python",
   "name": "python3"
  },
  "language_info": {
   "codemirror_mode": {
    "name": "ipython",
    "version": 3
   },
   "file_extension": ".py",
   "mimetype": "text/x-python",
   "name": "python",
   "nbconvert_exporter": "python",
   "pygments_lexer": "ipython3",
   "version": "3.11.6"
  }
 },
 "nbformat": 4,
 "nbformat_minor": 2
}
