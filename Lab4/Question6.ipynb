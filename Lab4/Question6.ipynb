{
 "cells": [
  {
   "cell_type": "code",
   "execution_count": 3,
   "metadata": {},
   "outputs": [],
   "source": [
    "import matplotlib.pyplot as plt\n",
    "import numpy as np"
   ]
  },
  {
   "cell_type": "code",
   "execution_count": 4,
   "metadata": {},
   "outputs": [],
   "source": [
    "\n",
    "class Polynomial:\n",
    "    def __init__(self, elements):\n",
    "        self.elements = list(elements)\n",
    "        self.degree = len(self.elements) - 1\n",
    "    \n",
    "    def __str__(self):\n",
    "        return \"Coefficients of the polynomial are:\\n\" + ' '.join(map(str, self.elements))\n",
    "    \n",
    "    def __add__(self, other):\n",
    "        self.elements += [0] * (len(other.elements) - len(self.elements))\n",
    "        other.elements += [0] * (len(self.elements) - len(other.elements))\n",
    "        \n",
    "        result_elements = [x + y for x, y in zip(self.elements, other.elements)]\n",
    "        return Polynomial(result_elements)\n",
    "    \n",
    "    def __sub__(self, other):\n",
    "        self.elements += [0] * (len(other.elements) - len(self.elements))\n",
    "        other.elements += [0] * (len(self.elements) - len(other.elements))\n",
    "        \n",
    "        result_elements = [x - y for x, y in zip(self.elements, other.elements)]\n",
    "        return Polynomial(result_elements)\n",
    "    \n",
    "    def __mul__(self, scalar):\n",
    "\n",
    "        if type(scalar) == Polynomial:\n",
    "            result_elements = [0] * (len(self.elements) + len(scalar.elements) - 1)\n",
    "            for i, x in enumerate(self.elements):\n",
    "                for j, y in enumerate(scalar.elements):\n",
    "                    result_elements[i + j] += x * y\n",
    "        else:\n",
    "            result_elements = [x * scalar for x in self.elements]\n",
    "            \n",
    "        return Polynomial(result_elements)\n",
    "    \n",
    "    def __rmul__(self, scalar):\n",
    "        return self.__mul__(scalar)\n",
    "    \n",
    "    def __getitem__(self, x):\n",
    "        result = 0\n",
    "        for i, coeff in enumerate(self.elements):\n",
    "            result += coeff * (x ** i)\n",
    "        return result\n",
    "\n",
    "    \n",
    "    def show(self, a, b):\n",
    "        # Generate x values in the interval [a, b]\n",
    "        x = np.linspace(a, b, 100)\n",
    "\n",
    "        # Evaluate the polynomial for each x value\n",
    "        y = [self[x_val] for x_val in x]\n",
    "\n",
    "        def generate_polynomial(self):\n",
    "\n",
    "            result = \"\"\n",
    "            op = \"\"\n",
    "            for i, coeff in enumerate(self.elements):\n",
    "                if coeff == 0:\n",
    "                    continue\n",
    "                op = \" - \" if coeff < 0 else \" + \"\n",
    "                result += (op if result != \"\" else \"\") + (str(coeff) if abs(coeff) != 1 or i == 0 else \"\") + (\"x\" + (\"^\" if i != 1 else \"\") + (str(i) if i != 1 else \"\") if i != 0 else \"\") \n",
    "            return result\n",
    "    \n",
    "\n",
    "        p_x = generate_polynomial(self) \n",
    "        if p_x == \"\":\n",
    "            p_x = \"0\"\n",
    "\n",
    "        # Plot the polynomial\n",
    "        plt.plot(x, y)\n",
    "        plt.xlabel('$x$')\n",
    "        plt.ylabel('$P(x)$')\n",
    "        plt.title(f\"Plot é of the polynomial ${p_x}$\")\n",
    "        plt.grid(True)\n",
    "        plt.show()\n",
    "\n",
    "    def derivative(self):\n",
    "        result_elements = [i * self.elements[i] for i in range(1, len(self.elements))]\n",
    "        return Polynomial(result_elements)\n",
    "    \n",
    "    def integral(self):\n",
    "        result_elements = [0.0] + [self.elements[i] / (i + 1) for i in range(len(self.elements))]\n",
    "        return Polynomial(result_elements)\n",
    "    \n",
    "    def area(self, a, b):\n",
    "        integral = self.integral()\n",
    "        return f\"Area in the interval [{a},{b}] is: {integral[b] - integral[a]}\"\n",
    "\n"
   ]
  },
  {
   "cell_type": "code",
   "execution_count": 5,
   "metadata": {},
   "outputs": [
    {
     "name": "stdout",
     "output_type": "stream",
     "text": [
      "Coefficients of the polynomial are:\n",
      "2 6\n",
      "Area in the interval [1,2] is: 11.0\n"
     ]
    }
   ],
   "source": [
    "p = Polynomial([1, 2, 3])\n",
    "pd = p.derivative()\n",
    "print(pd)\n",
    "p = Polynomial([1, 2, 3])\n",
    "print(p.area(1,2))"
   ]
  }
 ],
 "metadata": {
  "kernelspec": {
   "display_name": ".venv",
   "language": "python",
   "name": "python3"
  },
  "language_info": {
   "codemirror_mode": {
    "name": "ipython",
    "version": 3
   },
   "file_extension": ".py",
   "mimetype": "text/x-python",
   "name": "python",
   "nbconvert_exporter": "python",
   "pygments_lexer": "ipython3",
   "version": "3.11.6"
  }
 },
 "nbformat": 4,
 "nbformat_minor": 2
}
